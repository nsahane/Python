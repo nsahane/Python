{
  "nbformat": 4,
  "nbformat_minor": 0,
  "metadata": {
    "colab": {
      "provenance": []
    },
    "kernelspec": {
      "name": "python3",
      "display_name": "Python 3"
    },
    "language_info": {
      "name": "python"
    }
  },
  "cells": [
    {
      "cell_type": "markdown",
      "source": [
        "**#PR1 :  Write a Python program which accepts the radius of a circle from the user and compute the area**"
      ],
      "metadata": {
        "id": "-ykAZS7PeWd5"
      }
    },
    {
      "cell_type": "code",
      "source": [
        "from math import pi\n",
        "r = float(input (\"Input the radius of the circle : \"))\n",
        "print (\"Area is = \" + str(pi * r**2))"
      ],
      "metadata": {
        "id": "x3WZJpu4cNwV",
        "colab": {
          "base_uri": "https://localhost:8080/",
          "height": 321
        },
        "outputId": "80bdff6e-6b07-4726-85ff-5899c38e79d2"
      },
      "execution_count": null,
      "outputs": [
        {
          "output_type": "error",
          "ename": "KeyboardInterrupt",
          "evalue": "Interrupted by user",
          "traceback": [
            "\u001b[0;31m---------------------------------------------------------------------------\u001b[0m",
            "\u001b[0;31mKeyboardInterrupt\u001b[0m                         Traceback (most recent call last)",
            "\u001b[0;32m<ipython-input-1-58fd02ca9842>\u001b[0m in \u001b[0;36m<cell line: 2>\u001b[0;34m()\u001b[0m\n\u001b[1;32m      1\u001b[0m \u001b[0;32mfrom\u001b[0m \u001b[0mmath\u001b[0m \u001b[0;32mimport\u001b[0m \u001b[0mpi\u001b[0m\u001b[0;34m\u001b[0m\u001b[0;34m\u001b[0m\u001b[0m\n\u001b[0;32m----> 2\u001b[0;31m \u001b[0mr\u001b[0m \u001b[0;34m=\u001b[0m \u001b[0mfloat\u001b[0m\u001b[0;34m(\u001b[0m\u001b[0minput\u001b[0m \u001b[0;34m(\u001b[0m\u001b[0;34m\"Input the radius of the circle : \"\u001b[0m\u001b[0;34m)\u001b[0m\u001b[0;34m)\u001b[0m\u001b[0;34m\u001b[0m\u001b[0;34m\u001b[0m\u001b[0m\n\u001b[0m\u001b[1;32m      3\u001b[0m \u001b[0mprint\u001b[0m \u001b[0;34m(\u001b[0m\u001b[0;34m\"Area is = \"\u001b[0m \u001b[0;34m+\u001b[0m \u001b[0mstr\u001b[0m\u001b[0;34m(\u001b[0m\u001b[0mpi\u001b[0m \u001b[0;34m*\u001b[0m \u001b[0mr\u001b[0m\u001b[0;34m**\u001b[0m\u001b[0;36m2\u001b[0m\u001b[0;34m)\u001b[0m\u001b[0;34m)\u001b[0m\u001b[0;34m\u001b[0m\u001b[0;34m\u001b[0m\u001b[0m\n",
            "\u001b[0;32m/usr/local/lib/python3.10/dist-packages/ipykernel/kernelbase.py\u001b[0m in \u001b[0;36mraw_input\u001b[0;34m(self, prompt)\u001b[0m\n\u001b[1;32m    849\u001b[0m                 \u001b[0;34m\"raw_input was called, but this frontend does not support input requests.\"\u001b[0m\u001b[0;34m\u001b[0m\u001b[0;34m\u001b[0m\u001b[0m\n\u001b[1;32m    850\u001b[0m             )\n\u001b[0;32m--> 851\u001b[0;31m         return self._input_request(str(prompt),\n\u001b[0m\u001b[1;32m    852\u001b[0m             \u001b[0mself\u001b[0m\u001b[0;34m.\u001b[0m\u001b[0m_parent_ident\u001b[0m\u001b[0;34m,\u001b[0m\u001b[0;34m\u001b[0m\u001b[0;34m\u001b[0m\u001b[0m\n\u001b[1;32m    853\u001b[0m             \u001b[0mself\u001b[0m\u001b[0;34m.\u001b[0m\u001b[0m_parent_header\u001b[0m\u001b[0;34m,\u001b[0m\u001b[0;34m\u001b[0m\u001b[0;34m\u001b[0m\u001b[0m\n",
            "\u001b[0;32m/usr/local/lib/python3.10/dist-packages/ipykernel/kernelbase.py\u001b[0m in \u001b[0;36m_input_request\u001b[0;34m(self, prompt, ident, parent, password)\u001b[0m\n\u001b[1;32m    893\u001b[0m             \u001b[0;32mexcept\u001b[0m \u001b[0mKeyboardInterrupt\u001b[0m\u001b[0;34m:\u001b[0m\u001b[0;34m\u001b[0m\u001b[0;34m\u001b[0m\u001b[0m\n\u001b[1;32m    894\u001b[0m                 \u001b[0;31m# re-raise KeyboardInterrupt, to truncate traceback\u001b[0m\u001b[0;34m\u001b[0m\u001b[0;34m\u001b[0m\u001b[0m\n\u001b[0;32m--> 895\u001b[0;31m                 \u001b[0;32mraise\u001b[0m \u001b[0mKeyboardInterrupt\u001b[0m\u001b[0;34m(\u001b[0m\u001b[0;34m\"Interrupted by user\"\u001b[0m\u001b[0;34m)\u001b[0m \u001b[0;32mfrom\u001b[0m \u001b[0;32mNone\u001b[0m\u001b[0;34m\u001b[0m\u001b[0;34m\u001b[0m\u001b[0m\n\u001b[0m\u001b[1;32m    896\u001b[0m             \u001b[0;32mexcept\u001b[0m \u001b[0mException\u001b[0m \u001b[0;32mas\u001b[0m \u001b[0me\u001b[0m\u001b[0;34m:\u001b[0m\u001b[0;34m\u001b[0m\u001b[0;34m\u001b[0m\u001b[0m\n\u001b[1;32m    897\u001b[0m                 \u001b[0mself\u001b[0m\u001b[0;34m.\u001b[0m\u001b[0mlog\u001b[0m\u001b[0;34m.\u001b[0m\u001b[0mwarning\u001b[0m\u001b[0;34m(\u001b[0m\u001b[0;34m\"Invalid Message:\"\u001b[0m\u001b[0;34m,\u001b[0m \u001b[0mexc_info\u001b[0m\u001b[0;34m=\u001b[0m\u001b[0;32mTrue\u001b[0m\u001b[0;34m)\u001b[0m\u001b[0;34m\u001b[0m\u001b[0;34m\u001b[0m\u001b[0m\n",
            "\u001b[0;31mKeyboardInterrupt\u001b[0m: Interrupted by user"
          ]
        }
      ]
    },
    {
      "cell_type": "markdown",
      "source": [
        "**#PR2 :Write a Python program to accept a filename from the user and print the extension of that.**"
      ],
      "metadata": {
        "id": "ZmfZV49_ejKH"
      }
    },
    {
      "cell_type": "code",
      "source": [
        "\n",
        "filename = input(\"Enter the Filename: \")\n",
        "files_extns = filename.split(\".\")\n",
        "print(\"Extension of the file is : \" + repr(files_extns[-1]))"
      ],
      "metadata": {
        "colab": {
          "base_uri": "https://localhost:8080/"
        },
        "id": "wD9GOC3cczHf",
        "outputId": "425af7ab-32cf-4587-8dc5-598b3edbb932"
      },
      "execution_count": null,
      "outputs": [
        {
          "output_type": "stream",
          "name": "stdout",
          "text": [
            "Enter the Filename: nilesh.sahane.java\n",
            "Extension of the file is : 'java'\n"
          ]
        }
      ]
    },
    {
      "cell_type": "markdown",
      "source": [
        "**#pr3 : Write a Python program to display the first and last colors from the following list.**"
      ],
      "metadata": {
        "id": "Hm7yvBwiepCI"
      }
    },
    {
      "cell_type": "code",
      "source": [
        "\n",
        "color_list = [\"Red\",\"Green\",\"White\" ,\"Black\"]"
      ],
      "metadata": {
        "id": "IlssVqbhMsAM"
      },
      "execution_count": null,
      "outputs": []
    },
    {
      "cell_type": "code",
      "source": [
        "print(color_list[0])\n",
        "print(color_list[-1])"
      ],
      "metadata": {
        "colab": {
          "base_uri": "https://localhost:8080/"
        },
        "id": "fKXsFsNqQAkg",
        "outputId": "fd747d26-b1d6-494d-98b9-cf8709121e9c"
      },
      "execution_count": null,
      "outputs": [
        {
          "output_type": "stream",
          "name": "stdout",
          "text": [
            "Red\n",
            "Black\n"
          ]
        }
      ]
    },
    {
      "cell_type": "markdown",
      "source": [
        "**#pr4 : Write a Python program to display the examination schedule. (extract the date from exam_st_date).**"
      ],
      "metadata": {
        "id": "QxBAwyNietZg"
      }
    },
    {
      "cell_type": "code",
      "source": [
        "\n",
        "#exam_st_date = (11, 12, 2014)\n",
        "#Sample Output: The examination will start from : 11 / 12 / 2014\n",
        "\n",
        "exam_st_date = (11, 12, 2014)\n",
        "\n",
        "print('The examination will start from :' + str(exam_st_date[0]) +'/' + str(exam_st_date[1]) +'/'+ str(exam_st_date[2]))"
      ],
      "metadata": {
        "colab": {
          "base_uri": "https://localhost:8080/"
        },
        "id": "Va-0XMrIfI4B",
        "outputId": "fed16d72-12b9-4f64-adff-c12aa9af4643"
      },
      "execution_count": null,
      "outputs": [
        {
          "output_type": "stream",
          "name": "stdout",
          "text": [
            "The examination will start from :11/12/2014\n"
          ]
        }
      ]
    },
    {
      "cell_type": "markdown",
      "source": [
        "**#pr5 : print calender given month**"
      ],
      "metadata": {
        "id": "AB4udhxUfP0v"
      }
    },
    {
      "cell_type": "code",
      "source": [
        "\n",
        "import calendar\n",
        "y = int(input('Enter the year : '))\n",
        "m = int(input('Enter the month : '))\n",
        "print(calendar.month(y,m))"
      ],
      "metadata": {
        "id": "6-MRY91FSZoK",
        "colab": {
          "base_uri": "https://localhost:8080/"
        },
        "outputId": "b6f33736-e916-4e25-81be-cf755465de16"
      },
      "execution_count": null,
      "outputs": [
        {
          "output_type": "stream",
          "name": "stdout",
          "text": [
            "Enter the year : 2024\n",
            "Enter the month : 09\n",
            "   September 2024\n",
            "Mo Tu We Th Fr Sa Su\n",
            "                   1\n",
            " 2  3  4  5  6  7  8\n",
            " 9 10 11 12 13 14 15\n",
            "16 17 18 19 20 21 22\n",
            "23 24 25 26 27 28 29\n",
            "30\n",
            "\n"
          ]
        }
      ]
    },
    {
      "cell_type": "markdown",
      "source": [
        "**pr6  : find number of day btween two **"
      ],
      "metadata": {
        "id": "znPydMBRfVS-"
      }
    },
    {
      "cell_type": "code",
      "source": [
        "\n",
        "from datetime import date\n",
        "first_date = date(2014, 6, 3)\n",
        "last_date = date(2016, 6, 7)\n",
        "delta = last_date - first_date\n",
        "print(delta)\n",
        "\n"
      ],
      "metadata": {
        "colab": {
          "base_uri": "https://localhost:8080/"
        },
        "id": "Fgb1wXshLYGR",
        "outputId": "ee0c8029-17f2-49bc-8078-76140183b098"
      },
      "execution_count": null,
      "outputs": [
        {
          "output_type": "stream",
          "name": "stdout",
          "text": [
            "735 days, 0:00:00\n"
          ]
        }
      ]
    },
    {
      "cell_type": "markdown",
      "source": [
        "**#pr8 : Write a Python program to print numbers in reverse**"
      ],
      "metadata": {
        "id": "OEPZsk0pfg_n"
      }
    },
    {
      "cell_type": "code",
      "source": [
        "\n",
        "\n",
        "n = int(input('Enter Number : '))\n",
        "while n>=1 :\n",
        "  print(n)\n",
        "  n = n-1"
      ],
      "metadata": {
        "colab": {
          "base_uri": "https://localhost:8080/"
        },
        "id": "W_g3hFrgOSVB",
        "outputId": "633d0278-17ad-42d3-8ec7-afdf3f63b268"
      },
      "execution_count": null,
      "outputs": [
        {
          "output_type": "stream",
          "name": "stdout",
          "text": [
            "Enter Number : 8\n",
            "8\n",
            "7\n",
            "6\n",
            "5\n",
            "4\n",
            "3\n",
            "2\n",
            "1\n"
          ]
        }
      ]
    },
    {
      "cell_type": "markdown",
      "source": [
        "**#pr9 : print all alphabets from A to Z.**"
      ],
      "metadata": {
        "id": "bqqhs3pZfjwm"
      }
    },
    {
      "cell_type": "code",
      "source": [
        "\n",
        "a = 65\n",
        "while a <= ord('Z') :\n",
        "  print(chr(a))\n",
        "  a+=1"
      ],
      "metadata": {
        "colab": {
          "base_uri": "https://localhost:8080/"
        },
        "id": "rX-FNIw-PNwU",
        "outputId": "2122f4b6-8802-43ec-8b53-c7bd9d9d454b"
      },
      "execution_count": null,
      "outputs": [
        {
          "output_type": "stream",
          "name": "stdout",
          "text": [
            "A\n",
            "B\n",
            "C\n",
            "D\n",
            "E\n",
            "F\n",
            "G\n",
            "H\n",
            "I\n",
            "J\n",
            "K\n",
            "L\n",
            "M\n",
            "N\n",
            "O\n",
            "P\n",
            "Q\n",
            "R\n",
            "S\n",
            "T\n",
            "U\n",
            "V\n",
            "W\n",
            "X\n",
            "Y\n",
            "Z\n"
          ]
        }
      ]
    },
    {
      "cell_type": "markdown",
      "source": [
        "**#pr10:  print all even numbers between 1 to n.**"
      ],
      "metadata": {
        "id": "3e5OidCzfslW"
      }
    },
    {
      "cell_type": "code",
      "source": [
        "\n",
        "a = 0\n",
        "b = int(input('Enter Number : '))\n",
        "while a <= b:\n",
        "  if a%2 == 0:\n",
        "    print(a)\n",
        "    a+=1\n",
        "  else:\n",
        "    a+=1\n",
        "\n"
      ],
      "metadata": {
        "colab": {
          "base_uri": "https://localhost:8080/"
        },
        "id": "bCsBwn0hSEIE",
        "outputId": "45a9ed58-561d-411f-d7c9-02ffef4c5c0d"
      },
      "execution_count": null,
      "outputs": [
        {
          "output_type": "stream",
          "name": "stdout",
          "text": [
            "Enter Number : 12\n",
            "0\n",
            "2\n",
            "4\n",
            "6\n",
            "8\n",
            "10\n",
            "12\n"
          ]
        }
      ]
    },
    {
      "cell_type": "markdown",
      "source": [
        "**#pr11: print all odd numbers between 1 to n.**"
      ],
      "metadata": {
        "id": "8tekHs9nfvbN"
      }
    },
    {
      "cell_type": "code",
      "source": [
        "\n",
        "a = 1\n",
        "b = int(input('Enter Number : '))\n",
        "while a <= b:\n",
        "  if a%2 == 1:\n",
        "    print(a)\n",
        "    a+=1\n",
        "  else:\n",
        "    a+=1"
      ],
      "metadata": {
        "colab": {
          "base_uri": "https://localhost:8080/"
        },
        "id": "YlFOheQmZng_",
        "outputId": "a531e5fd-3de2-412e-dfcb-e5980d3f57f9"
      },
      "execution_count": null,
      "outputs": [
        {
          "output_type": "stream",
          "name": "stdout",
          "text": [
            "Enter Number : 11\n",
            "1\n",
            "3\n",
            "5\n",
            "7\n",
            "9\n",
            "11\n"
          ]
        }
      ]
    },
    {
      "cell_type": "markdown",
      "source": [
        "**List**"
      ],
      "metadata": {
        "id": "UtiOGdWigbn2"
      }
    },
    {
      "cell_type": "markdown",
      "source": [
        "**PR12 : Find Second largest**"
      ],
      "metadata": {
        "id": "6XsW9lGlkQOU"
      }
    },
    {
      "cell_type": "code",
      "source": [
        "a=[]\n",
        "n=int(input(\"Enter number of elements:\"))\n",
        "for i in range(1,n+1):\n",
        "    b=int(input(\"Enter element:\"))\n",
        "    a.append(b)\n",
        "a.sort()\n",
        "print(\"Second largest element is:\", a[n-2])"
      ],
      "metadata": {
        "colab": {
          "base_uri": "https://localhost:8080/"
        },
        "id": "N7BiUhETgDaF",
        "outputId": "a70b3870-e752-41d1-8c27-5569f3af8007"
      },
      "execution_count": null,
      "outputs": [
        {
          "output_type": "stream",
          "name": "stdout",
          "text": [
            "Enter number of elements:5\n",
            "Enter element:8\n",
            "Enter element:5\n",
            "Enter element:1\n",
            "Enter element:9\n",
            "Enter element:2\n",
            "Second largest element is: 8\n"
          ]
        }
      ]
    },
    {
      "cell_type": "code",
      "source": [],
      "metadata": {
        "colab": {
          "base_uri": "https://localhost:8080/"
        },
        "id": "y19-vhsSxK5E",
        "outputId": "03c7aa50-efa1-451c-e506-c614dd32369b"
      },
      "execution_count": null,
      "outputs": [
        {
          "output_type": "execute_result",
          "data": {
            "text/plain": [
              "9"
            ]
          },
          "metadata": {},
          "execution_count": 6
        }
      ]
    },
    {
      "cell_type": "markdown",
      "source": [
        "**PR13 : Find  smallest**"
      ],
      "metadata": {
        "id": "PJ8IX0KP230A"
      }
    },
    {
      "cell_type": "code",
      "source": [
        "b=[]\n",
        "n=int(input(\"Enter number of elements:\"))\n",
        "for i in range(1,n+1):\n",
        "    c=int(input(\"Enter element:\"))\n",
        "    b.append(c)\n",
        "b.sort()\n",
        "print(\"Second largest element is:\", b[0])"
      ],
      "metadata": {
        "id": "SP-UOXBmx5Ew",
        "colab": {
          "base_uri": "https://localhost:8080/"
        },
        "outputId": "d7502135-0771-4fd1-8ab1-f8903fb74b15"
      },
      "execution_count": null,
      "outputs": [
        {
          "output_type": "stream",
          "name": "stdout",
          "text": [
            "Enter number of elements:4\n",
            "Enter element:6\n",
            "Enter element:7\n",
            "Enter element:3\n",
            "Enter element:2\n",
            "Second largest element is: 2\n"
          ]
        }
      ]
    },
    {
      "cell_type": "markdown",
      "source": [
        "**PR14 : Find duplicate number**"
      ],
      "metadata": {
        "id": "sYOsSkzSAkhP"
      }
    },
    {
      "cell_type": "code",
      "source": [
        "f = [5,7,8,8,9,5,2,6,1,1]\n",
        "duplicate = []\n",
        "unique = []\n",
        "for i in f:\n",
        "  if i in unique:\n",
        "    duplicate.append(i)\n",
        "  else:\n",
        "    unique.append(i)\n",
        "print(duplicate)\n",
        "print(unique)\n",
        "\n"
      ],
      "metadata": {
        "colab": {
          "base_uri": "https://localhost:8080/"
        },
        "id": "jop9pY9-AuKJ",
        "outputId": "76eb1776-e89c-4206-ee57-0ca9a6aaa0fe"
      },
      "execution_count": null,
      "outputs": [
        {
          "output_type": "stream",
          "name": "stdout",
          "text": [
            "[8, 5, 1]\n",
            "[5, 7, 8, 9, 2, 6, 1]\n"
          ]
        }
      ]
    },
    {
      "cell_type": "markdown",
      "source": [
        "**PR15 : Even and odd list**"
      ],
      "metadata": {
        "id": "oLlwWzU6E6gA"
      }
    },
    {
      "cell_type": "code",
      "source": [
        "f = [5,7,8,8,9,5,2,6,1,1]\n",
        "odd = []\n",
        "even = []\n",
        "for i in f:\n",
        "  if i%2 == 0:\n",
        "    even.append(i)\n",
        "  else:\n",
        "    odd.append(i)\n",
        "print('odd list' + str(odd))\n",
        "print('even list' + str(even))"
      ],
      "metadata": {
        "colab": {
          "base_uri": "https://localhost:8080/"
        },
        "id": "1fPbgLX0FGI5",
        "outputId": "50e5d61f-2758-46d8-8be2-4ede83c18c0d"
      },
      "execution_count": null,
      "outputs": [
        {
          "output_type": "stream",
          "name": "stdout",
          "text": [
            "odd list[5, 7, 9, 5, 1, 1]\n",
            "even list[8, 8, 2, 6]\n"
          ]
        }
      ]
    },
    {
      "cell_type": "markdown",
      "source": [
        "**PR16 : Python Program to Create a List of Tuples with the First Element as the Number and Second Element as the Square of the Number .**"
      ],
      "metadata": {
        "id": "JXacRnJJbPSq"
      }
    },
    {
      "cell_type": "code",
      "source": [
        "a =[]\n",
        "stratno = int(input('Enter lower number : '))\n",
        "endno = int(input('Enter Higest number : '))\n",
        "for i in range(stratno,endno+1):\n",
        "  c= (i,i**2)\n",
        "  a.append(c)\n",
        "print(a)"
      ],
      "metadata": {
        "colab": {
          "base_uri": "https://localhost:8080/"
        },
        "id": "prK14_SDYBx3",
        "outputId": "1f9d2605-15c0-465b-d638-6dc6d4f01229"
      },
      "execution_count": null,
      "outputs": [
        {
          "output_type": "stream",
          "name": "stdout",
          "text": [
            "Enter lower number : 1\n",
            "Enter Higest number : 5\n",
            "[(1, 1), (2, 4), (3, 9), (4, 16), (5, 25)]\n"
          ]
        }
      ]
    },
    {
      "cell_type": "markdown",
      "source": [
        "**PR17 : Python Program to find perfect squre num from given range.**"
      ],
      "metadata": {
        "id": "Ol_h6nCfc0-h"
      }
    },
    {
      "cell_type": "code",
      "source": [
        "a = []\n",
        "b = []\n",
        "stratno = int(input('Enter lower number : '))\n",
        "endno = int(input('Enter Higest number : '))\n",
        "for i in range(stratno,endno+1):\n",
        "  if (int(i**0.5))**2 == i:\n",
        "      a.append(i)\n",
        "  else :\n",
        "      b.append(i)\n",
        "print(a)\n",
        "\n",
        "\n",
        "\n"
      ],
      "metadata": {
        "id": "G6X56u6Ab8wJ",
        "colab": {
          "base_uri": "https://localhost:8080/"
        },
        "outputId": "37d542c3-098f-40e7-8e89-55cf2c0fc2dc"
      },
      "execution_count": null,
      "outputs": [
        {
          "output_type": "stream",
          "name": "stdout",
          "text": [
            "Enter lower number : 1\n",
            "Enter Higest number : 50\n",
            "[1, 4, 9, 16, 25, 36, 49]\n"
          ]
        }
      ]
    },
    {
      "cell_type": "markdown",
      "source": [
        "**PR18 : print list in reverse order**"
      ],
      "metadata": {
        "id": "cb3denvQR-v7"
      }
    },
    {
      "cell_type": "code",
      "source": [
        "b = [1, 4, 9, 16, 25, 36, 49]\n",
        "for i in b[::-1]:\n",
        "  print(i)"
      ],
      "metadata": {
        "colab": {
          "base_uri": "https://localhost:8080/"
        },
        "id": "Ul2cIgIgQPdS",
        "outputId": "230e0ed4-6b39-43c4-f27d-cc4183923499"
      },
      "execution_count": null,
      "outputs": [
        {
          "output_type": "stream",
          "name": "stdout",
          "text": [
            "49\n",
            "36\n",
            "25\n",
            "16\n",
            "9\n",
            "4\n",
            "1\n"
          ]
        }
      ]
    },
    {
      "cell_type": "markdown",
      "source": [
        "**PR19 : Python Program to swap First and last value from the list.**"
      ],
      "metadata": {
        "id": "CuXSEjtYSJhw"
      }
    },
    {
      "cell_type": "code",
      "source": [
        "a = []\n",
        "b = []\n",
        "stratno = int(input('Enter lower number : '))\n",
        "endno = int(input('Enter Higest number : '))\n",
        "for i in range(stratno,endno+1):\n"
      ],
      "metadata": {
        "id": "k0oPeRngQTg4"
      },
      "execution_count": null,
      "outputs": []
    },
    {
      "cell_type": "markdown",
      "source": [
        "**20. Write a Python program to find maximum between two numbers.**"
      ],
      "metadata": {
        "id": "RM8RjcMF2hcN"
      }
    },
    {
      "cell_type": "code",
      "source": [
        "  num1 = int(input('Enter number  1 : '))\n",
        "  num2 = int(input('Enter number 2 : '))\n",
        "  if num1>num2:\n",
        "    print( \"Max number is \" + str(num1))\n",
        "  else:\n",
        "   print( \"Max number is \" + str(num2))"
      ],
      "metadata": {
        "colab": {
          "base_uri": "https://localhost:8080/"
        },
        "id": "uIUgpj4X2no5",
        "outputId": "26983638-5dd1-465a-ee47-3069e8a3ca0b"
      },
      "execution_count": null,
      "outputs": [
        {
          "output_type": "stream",
          "name": "stdout",
          "text": [
            "Enter number  1 : 7\n",
            "Enter number 2 : 7\n",
            "Max number is 7\n"
          ]
        }
      ]
    },
    {
      "cell_type": "markdown",
      "source": [
        "**21. Write a Python program to find maximum among three numbers.**"
      ],
      "metadata": {
        "id": "An4_xKr_4fB2"
      }
    },
    {
      "cell_type": "code",
      "source": [
        "  num1 = int(input('Enter number  1 : '))\n",
        "  num2 = int(input('Enter number 2 : '))\n",
        "  num3= int(input('Enter number 3 : '))\n",
        "  if num1>num2 and num1>num3:\n",
        "    print( \"Max number is \" + str(num1))\n",
        "  elif num2>num3:\n",
        "   print( \"Max number is \" + str(num2))\n",
        "  else:\n",
        "   print( \"Max number is \" + str(num3))\n",
        "\n"
      ],
      "metadata": {
        "colab": {
          "base_uri": "https://localhost:8080/"
        },
        "id": "4mE2Ayao4iCb",
        "outputId": "3d127db0-d354-4440-8fee-768967434f16"
      },
      "execution_count": null,
      "outputs": [
        {
          "output_type": "stream",
          "name": "stdout",
          "text": [
            "Enter number  1 : 7\n",
            "Enter number 2 : 8\n",
            "Enter number 3 : 5\n",
            "Max number is 8\n"
          ]
        }
      ]
    },
    {
      "cell_type": "markdown",
      "source": [
        " **22. Write a Python program to check whether a number is negative, positive or\n",
        "zero.**"
      ],
      "metadata": {
        "id": "ZIHAMlVl56Uw"
      }
    },
    {
      "cell_type": "code",
      "source": [
        "  num1 = int(input('Enter number  : '))\n",
        "\n",
        "  if num1>0 :\n",
        "    print( \" Enterd number is positive\" )\n",
        "  elif num1<0:\n",
        "   print( \" Enterd number is negative\")\n",
        "  else:\n",
        "   print( \" Enterd number is zero\")"
      ],
      "metadata": {
        "colab": {
          "base_uri": "https://localhost:8080/"
        },
        "id": "6cqaGAz76HFq",
        "outputId": "b8ab8d6b-1da5-4341-8d99-c37f5d767aac"
      },
      "execution_count": null,
      "outputs": [
        {
          "output_type": "stream",
          "name": "stdout",
          "text": [
            "Enter number  : 0\n",
            " Enterd number is zero\n"
          ]
        }
      ]
    },
    {
      "cell_type": "markdown",
      "source": [
        "**23. Write a Python program to check whether a number is divisible by 5 and 11\n",
        "or not.**"
      ],
      "metadata": {
        "id": "FcE_bmIY7cu7"
      }
    },
    {
      "cell_type": "code",
      "source": [
        "  num1 = int(input('Enter number  : '))\n",
        "\n",
        "  if num1%11==0 and num1%5==0:\n",
        "   print( \" Enterd number is divisible by 5 and 11\")\n",
        "  elif num1%5==0 :\n",
        "    print( \" Enterd number is divisible by 5 \" )\n",
        "  elif num1%11==0:\n",
        "   print( \" Enterd number is divisible by 11\")\n",
        "  else:\n",
        "   print( \" Enterd number is not divisible by 5 and 11\")"
      ],
      "metadata": {
        "colab": {
          "base_uri": "https://localhost:8080/"
        },
        "id": "ho_IWWPB7l28",
        "outputId": "fb89bdcc-50bf-45b8-af99-a1b670048819"
      },
      "execution_count": null,
      "outputs": [
        {
          "output_type": "stream",
          "name": "stdout",
          "text": [
            "Enter number  : 55\n",
            " Enterd number is divisible by 5 and 11\n"
          ]
        }
      ]
    },
    {
      "cell_type": "markdown",
      "source": [
        "**24 : Write a Python program to check whether a year is leap year or not.**"
      ],
      "metadata": {
        "id": "S0Ps4g3jeGkq"
      }
    },
    {
      "cell_type": "code",
      "source": [
        "  yr = int(input('Enter year  : '))\n",
        "  if yr%4 == 0:\n",
        "    print('selected year ' , yr ,'is leap year')\n",
        "  else :\n",
        "   print('selected year' , yr ,'is not a leap year')\n",
        "\n"
      ],
      "metadata": {
        "id": "TLsdy51LSlv7",
        "colab": {
          "base_uri": "https://localhost:8080/"
        },
        "outputId": "ac96f94d-06d1-43c2-b562-d8748c80def0"
      },
      "execution_count": null,
      "outputs": [
        {
          "output_type": "stream",
          "name": "stdout",
          "text": [
            "Enter year  : 2021\n",
            "selected year 2021 is not a leap year\n"
          ]
        }
      ]
    },
    {
      "cell_type": "markdown",
      "source": [
        "**25 : Write a Python program to print all natural numbers from 1 to n. - using while loop**"
      ],
      "metadata": {
        "id": "Pmr8WDZ0nE4K"
      }
    },
    {
      "cell_type": "code",
      "source": [
        "  endnumber = int(input('Enter nth number  : '))\n",
        "  startnumber = 0\n",
        "  while startnumber < (endnumber + 1):\n",
        "    print(startnumber)\n",
        "    startnumber +=1"
      ],
      "metadata": {
        "colab": {
          "base_uri": "https://localhost:8080/"
        },
        "id": "xOl0NvaFnD5i",
        "outputId": "593c4421-114c-41bd-a4a6-bd13be1011e0"
      },
      "execution_count": null,
      "outputs": [
        {
          "output_type": "stream",
          "name": "stdout",
          "text": [
            "Enter nth number  : 9\n",
            "0\n",
            "1\n",
            "2\n",
            "3\n",
            "4\n",
            "5\n",
            "6\n",
            "7\n",
            "8\n",
            "9\n"
          ]
        }
      ]
    },
    {
      "cell_type": "markdown",
      "source": [
        "**26 : Write a Python program to find sum of all natural numbers between 1 to n.**"
      ],
      "metadata": {
        "id": "LoPEjR0VvvWu"
      }
    },
    {
      "cell_type": "code",
      "source": [
        "  endnumber = int(input('Enter nth number  : '))\n",
        "  startnumber = 0\n",
        "  sum = 0\n",
        "  totalsum=0\n",
        "  while startnumber < (endnumber + 1):\n",
        "    totalsum +=startnumber\n",
        "    startnumber +=1\n",
        "  print('total sum of all 0 to',endnumber, ' number is', totalsum)"
      ],
      "metadata": {
        "id": "7aEopcQIvzOd",
        "colab": {
          "base_uri": "https://localhost:8080/"
        },
        "outputId": "8d03c67a-d927-4100-e72b-abcf1be28887"
      },
      "execution_count": 2,
      "outputs": [
        {
          "output_type": "stream",
          "name": "stdout",
          "text": [
            "Enter nth number  : 10\n",
            "total sum of all 0 to 10  number is 55\n"
          ]
        }
      ]
    }
  ]
}