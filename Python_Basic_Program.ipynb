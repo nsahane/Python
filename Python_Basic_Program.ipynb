{
  "nbformat": 4,
  "nbformat_minor": 0,
  "metadata": {
    "colab": {
      "provenance": []
    },
    "kernelspec": {
      "name": "python3",
      "display_name": "Python 3"
    },
    "language_info": {
      "name": "python"
    }
  },
  "cells": [
    {
      "cell_type": "code",
      "execution_count": null,
      "metadata": {
        "id": "UNls96GQa7IK"
      },
      "outputs": [],
      "source": []
    },
    {
      "cell_type": "code",
      "source": [
        "#pr1 :1 Write a Python program which accepts the radius of a circle from the user and compute the area\n",
        "from math import pi\n",
        "r = float(input (\"Input the radius of the circle : \"))\n",
        "print (\"Area is = \" + str(pi * r**2))"
      ],
      "metadata": {
        "colab": {
          "base_uri": "https://localhost:8080/"
        },
        "id": "x3WZJpu4cNwV",
        "outputId": "0abb145b-d6fd-43e2-c1de-c0262f583aab"
      },
      "execution_count": null,
      "outputs": [
        {
          "output_type": "stream",
          "name": "stdout",
          "text": [
            "Input the radius of the circle : 23\n",
            "Area is = 1661.9025137490005\n"
          ]
        }
      ]
    },
    {
      "cell_type": "code",
      "source": [
        "#pr2 :Write a Python program to accept a filename from the user and print the extension of that.\n",
        "filename = input(\"Enter the Filename: \")\n",
        "files_extns = filename.split(\".\")\n",
        "print(\"Extension of the file is : \" + repr(files_extns[-1]))"
      ],
      "metadata": {
        "colab": {
          "base_uri": "https://localhost:8080/"
        },
        "id": "wD9GOC3cczHf",
        "outputId": "425af7ab-32cf-4587-8dc5-598b3edbb932"
      },
      "execution_count": null,
      "outputs": [
        {
          "output_type": "stream",
          "name": "stdout",
          "text": [
            "Enter the Filename: nilesh.sahane.java\n",
            "Extension of the file is : 'java'\n"
          ]
        }
      ]
    },
    {
      "cell_type": "code",
      "source": [
        "#pr3 : Write a Python program to display the first and last colors from the following list.\n",
        "color_list = [\"Red\",\"Green\",\"White\" ,\"Black\"]"
      ],
      "metadata": {
        "id": "IlssVqbhMsAM"
      },
      "execution_count": 7,
      "outputs": []
    },
    {
      "cell_type": "code",
      "source": [
        "print(color_list[0])\n",
        "print(color_list[-1])"
      ],
      "metadata": {
        "colab": {
          "base_uri": "https://localhost:8080/"
        },
        "id": "fKXsFsNqQAkg",
        "outputId": "fd747d26-b1d6-494d-98b9-cf8709121e9c"
      },
      "execution_count": 9,
      "outputs": [
        {
          "output_type": "stream",
          "name": "stdout",
          "text": [
            "Red\n",
            "Black\n"
          ]
        }
      ]
    },
    {
      "cell_type": "code",
      "source": [
        "#pr4 : Write a Python program to display the examination schedule. (extract the date from exam_st_date).\n",
        "#exam_st_date = (11, 12, 2014)\n",
        "#Sample Output: The examination will start from : 11 / 12 / 2014\n",
        "\n",
        "exam_st_date = (11, 12, 2014)\n",
        "\n",
        "print('The examination will start from :' + str(exam_st_date[0]) +'/' + str(exam_st_date[1]) +'/'+ str(exam_st_date[2]))"
      ],
      "metadata": {
        "id": "fQsIXkUzQgM7",
        "colab": {
          "base_uri": "https://localhost:8080/"
        },
        "outputId": "e1a73d79-ecf1-473c-c271-6730b65c02a9"
      },
      "execution_count": 1,
      "outputs": [
        {
          "output_type": "stream",
          "name": "stdout",
          "text": [
            "The examination will start from :11/12/2014\n"
          ]
        }
      ]
    },
    {
      "cell_type": "code",
      "source": [
        "#pr5 : print calender given month\n",
        "import calendar\n",
        "y = int(input('Enter the year : '))\n",
        "m = int(input('Enter the month : '))\n",
        "print(calendar.month(y,m))"
      ],
      "metadata": {
        "id": "6-MRY91FSZoK",
        "colab": {
          "base_uri": "https://localhost:8080/"
        },
        "outputId": "b6f33736-e916-4e25-81be-cf755465de16"
      },
      "execution_count": 5,
      "outputs": [
        {
          "output_type": "stream",
          "name": "stdout",
          "text": [
            "Enter the year : 2024\n",
            "Enter the month : 09\n",
            "   September 2024\n",
            "Mo Tu We Th Fr Sa Su\n",
            "                   1\n",
            " 2  3  4  5  6  7  8\n",
            " 9 10 11 12 13 14 15\n",
            "16 17 18 19 20 21 22\n",
            "23 24 25 26 27 28 29\n",
            "30\n",
            "\n"
          ]
        }
      ]
    },
    {
      "cell_type": "code",
      "source": [
        "#pr6 : find number of day btween two date\n",
        "from datetime import date\n",
        "first_date = date(2014, 6, 3)\n",
        "last_date = date(2016, 6, 7)\n",
        "delta = last_date - first_date\n",
        "print(delta)\n",
        "\n"
      ],
      "metadata": {
        "colab": {
          "base_uri": "https://localhost:8080/"
        },
        "id": "Fgb1wXshLYGR",
        "outputId": "ee0c8029-17f2-49bc-8078-76140183b098"
      },
      "execution_count": 19,
      "outputs": [
        {
          "output_type": "stream",
          "name": "stdout",
          "text": [
            "735 days, 0:00:00\n"
          ]
        }
      ]
    },
    {
      "cell_type": "code",
      "source": [
        "#pr7 :  Write a Python program to print numbers from 1 to n\n",
        "n=1\n",
        "stop_num = int(input('Enter Number : '))\n",
        "while n <= stop_num :\n",
        "  print(n)\n",
        "  n += 1"
      ],
      "metadata": {
        "colab": {
          "base_uri": "https://localhost:8080/"
        },
        "id": "uavmslHjQW68",
        "outputId": "4399fb51-b714-4878-fd04-b86db6c2b09b"
      },
      "execution_count": 35,
      "outputs": [
        {
          "output_type": "stream",
          "name": "stdout",
          "text": [
            "Enter Number : 5\n",
            "1\n",
            "2\n",
            "3\n",
            "4\n",
            "5\n"
          ]
        }
      ]
    },
    {
      "cell_type": "code",
      "source": [
        "#pr8 :  Write a Python program to print numbers in reverse\n",
        "\n",
        "n = int(input('Enter Number : '))\n",
        "while n>=1 :\n",
        "  print(n)\n",
        "  n = n-1"
      ],
      "metadata": {
        "colab": {
          "base_uri": "https://localhost:8080/"
        },
        "id": "W_g3hFrgOSVB",
        "outputId": "633d0278-17ad-42d3-8ec7-afdf3f63b268"
      },
      "execution_count": 29,
      "outputs": [
        {
          "output_type": "stream",
          "name": "stdout",
          "text": [
            "Enter Number : 8\n",
            "8\n",
            "7\n",
            "6\n",
            "5\n",
            "4\n",
            "3\n",
            "2\n",
            "1\n"
          ]
        }
      ]
    },
    {
      "cell_type": "code",
      "source": [
        "#pr9 : print all alphabets from A to Z.\n",
        "a = 65\n",
        "while a <= ord('Z') :\n",
        "  print(chr(a))\n",
        "  a+=1"
      ],
      "metadata": {
        "colab": {
          "base_uri": "https://localhost:8080/"
        },
        "id": "rX-FNIw-PNwU",
        "outputId": "2122f4b6-8802-43ec-8b53-c7bd9d9d454b"
      },
      "execution_count": 43,
      "outputs": [
        {
          "output_type": "stream",
          "name": "stdout",
          "text": [
            "A\n",
            "B\n",
            "C\n",
            "D\n",
            "E\n",
            "F\n",
            "G\n",
            "H\n",
            "I\n",
            "J\n",
            "K\n",
            "L\n",
            "M\n",
            "N\n",
            "O\n",
            "P\n",
            "Q\n",
            "R\n",
            "S\n",
            "T\n",
            "U\n",
            "V\n",
            "W\n",
            "X\n",
            "Y\n",
            "Z\n"
          ]
        }
      ]
    },
    {
      "cell_type": "code",
      "source": [
        "#pr10 :  print all even numbers between 1 to 10.\n",
        "\n",
        "a= 1\n",
        "while a <= 10:\n",
        "  if a%2 == 1:\n",
        "    print(a)\n",
        "    a+=1\n",
        "  else:\n",
        "    a+=1\n",
        "\n"
      ],
      "metadata": {
        "colab": {
          "base_uri": "https://localhost:8080/"
        },
        "id": "bCsBwn0hSEIE",
        "outputId": "a79d28aa-642b-4b73-bcfc-2a9889237767"
      },
      "execution_count": 47,
      "outputs": [
        {
          "output_type": "stream",
          "name": "stdout",
          "text": [
            "1\n",
            "3\n",
            "5\n",
            "7\n",
            "9\n"
          ]
        }
      ]
    }
  ]
}