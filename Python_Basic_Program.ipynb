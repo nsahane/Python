{
  "nbformat": 4,
  "nbformat_minor": 0,
  "metadata": {
    "colab": {
      "provenance": []
    },
    "kernelspec": {
      "name": "python3",
      "display_name": "Python 3"
    },
    "language_info": {
      "name": "python"
    }
  },
  "cells": [
    {
      "cell_type": "code",
      "execution_count": null,
      "metadata": {
        "id": "UNls96GQa7IK"
      },
      "outputs": [],
      "source": []
    },
    {
      "cell_type": "code",
      "source": [
        "#Write a Python program which accepts the radius of a circle from the user and compute the area\n",
        "from math import pi\n",
        "r = float(input (\"Input the radius of the circle : \"))\n",
        "print (\"Area is = \" + str(pi * r**2))"
      ],
      "metadata": {
        "colab": {
          "base_uri": "https://localhost:8080/"
        },
        "id": "x3WZJpu4cNwV",
        "outputId": "0abb145b-d6fd-43e2-c1de-c0262f583aab"
      },
      "execution_count": 1,
      "outputs": [
        {
          "output_type": "stream",
          "name": "stdout",
          "text": [
            "Input the radius of the circle : 23\n",
            "Area is = 1661.9025137490005\n"
          ]
        }
      ]
    },
    {
      "cell_type": "code",
      "source": [
        "#Write a Python program to accept a filename from the user and print the extension of that.\n",
        "filename = input(\"Enter the Filename: \")\n",
        "files_extns = filename.split(\".\")\n",
        "print(\"Extension of the file is : \" + repr(files_extns[-1]))"
      ],
      "metadata": {
        "colab": {
          "base_uri": "https://localhost:8080/"
        },
        "id": "wD9GOC3cczHf",
        "outputId": "425af7ab-32cf-4587-8dc5-598b3edbb932"
      },
      "execution_count": 6,
      "outputs": [
        {
          "output_type": "stream",
          "name": "stdout",
          "text": [
            "Enter the Filename: nilesh.sahane.java\n",
            "Extension of the file is : 'java'\n"
          ]
        }
      ]
    },
    {
      "cell_type": "code",
      "source": [],
      "metadata": {
        "id": "7CJPAKN8d-mR"
      },
      "execution_count": null,
      "outputs": []
    }
  ]
}